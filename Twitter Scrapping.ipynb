{
 "cells": [
  {
   "cell_type": "code",
   "execution_count": 1,
   "id": "00037fe1",
   "metadata": {},
   "outputs": [
    {
     "name": "stdout",
     "output_type": "stream",
     "text": [
      "Requirement already satisfied: snscrape in c:\\users\\kiit\\desktop\\sample_project_1\\env\\lib\\site-packages (0.4.3.20220106)\n",
      "Requirement already satisfied: beautifulsoup4 in c:\\users\\kiit\\desktop\\sample_project_1\\env\\lib\\site-packages (from snscrape) (4.11.1)\n",
      "Requirement already satisfied: filelock in c:\\users\\kiit\\desktop\\sample_project_1\\env\\lib\\site-packages (from snscrape) (3.9.0)\n",
      "Requirement already satisfied: lxml in c:\\users\\kiit\\desktop\\sample_project_1\\env\\lib\\site-packages (from snscrape) (4.9.1)\n",
      "Requirement already satisfied: requests[socks] in c:\\users\\kiit\\appdata\\roaming\\python\\python310\\site-packages (from snscrape) (2.27.1)\n",
      "Requirement already satisfied: soupsieve>1.2 in c:\\users\\kiit\\desktop\\sample_project_1\\env\\lib\\site-packages (from beautifulsoup4->snscrape) (2.3.2.post1)\n",
      "Requirement already satisfied: idna<4,>=2.5 in c:\\users\\kiit\\appdata\\roaming\\python\\python310\\site-packages (from requests[socks]->snscrape) (3.3)\n",
      "Requirement already satisfied: certifi>=2017.4.17 in c:\\users\\kiit\\appdata\\roaming\\python\\python310\\site-packages (from requests[socks]->snscrape) (2021.10.8)\n",
      "Requirement already satisfied: urllib3<1.27,>=1.21.1 in c:\\users\\kiit\\appdata\\roaming\\python\\python310\\site-packages (from requests[socks]->snscrape) (1.26.9)\n",
      "Requirement already satisfied: charset-normalizer~=2.0.0 in c:\\users\\kiit\\appdata\\roaming\\python\\python310\\site-packages (from requests[socks]->snscrape) (2.0.12)\n",
      "Requirement already satisfied: PySocks!=1.5.7,>=1.5.6 in c:\\users\\kiit\\desktop\\sample_project_1\\env\\lib\\site-packages (from requests[socks]->snscrape) (1.7.1)\n"
     ]
    }
   ],
   "source": [
    "!pip3 install snscrape"
   ]
  },
  {
   "cell_type": "code",
   "execution_count": 2,
   "id": "a7578d95",
   "metadata": {},
   "outputs": [],
   "source": [
    "import snscrape.modules.twitter as sntwitter"
   ]
  },
  {
   "cell_type": "code",
   "execution_count": 3,
   "id": "cfaffc49",
   "metadata": {},
   "outputs": [],
   "source": [
    "import pandas as pd"
   ]
  },
  {
   "cell_type": "code",
   "execution_count": 17,
   "id": "1ce6873b",
   "metadata": {},
   "outputs": [],
   "source": [
    "query = \"https://twitter.com/elonmusk/status/1593673339826212864\""
   ]
  },
  {
   "cell_type": "code",
   "execution_count": 18,
   "id": "c8ad2647",
   "metadata": {},
   "outputs": [],
   "source": [
    "tweets = []"
   ]
  },
  {
   "cell_type": "code",
   "execution_count": 28,
   "id": "631637b4",
   "metadata": {},
   "outputs": [],
   "source": [
    "limit = 3000"
   ]
  },
  {
   "cell_type": "code",
   "execution_count": 29,
   "id": "8a29f93e",
   "metadata": {},
   "outputs": [],
   "source": [
    "for tweet in sntwitter.TwitterSearchScraper(query).get_items():\n",
    "    #print(vars(tweet))\n",
    "    #break\n",
    "    if len(tweets) == limit:\n",
    "        break\n",
    "    else:\n",
    "        tweets.append([tweet.content])\n",
    "\n",
    "df = pd.DataFrame(tweets, columns = [\"Tweet\"])"
   ]
  },
  {
   "cell_type": "code",
   "execution_count": 30,
   "id": "a676326a",
   "metadata": {},
   "outputs": [
    {
     "data": {
      "text/html": [
       "<div>\n",
       "<style scoped>\n",
       "    .dataframe tbody tr th:only-of-type {\n",
       "        vertical-align: middle;\n",
       "    }\n",
       "\n",
       "    .dataframe tbody tr th {\n",
       "        vertical-align: top;\n",
       "    }\n",
       "\n",
       "    .dataframe thead th {\n",
       "        text-align: right;\n",
       "    }\n",
       "</style>\n",
       "<table border=\"1\" class=\"dataframe\">\n",
       "  <thead>\n",
       "    <tr style=\"text-align: right;\">\n",
       "      <th></th>\n",
       "      <th>Tweet</th>\n",
       "    </tr>\n",
       "  </thead>\n",
       "  <tbody>\n",
       "    <tr>\n",
       "      <th>0</th>\n",
       "      <td>🎆🌆 https://t.co/geAmTzucIm</td>\n",
       "    </tr>\n",
       "    <tr>\n",
       "      <th>1</th>\n",
       "      <td>Imma negative tweet\\nImma negative tweet\\nImma...</td>\n",
       "    </tr>\n",
       "    <tr>\n",
       "      <th>2</th>\n",
       "      <td>Musk: \"Old Twitter deboosted certain accounts,...</td>\n",
       "    </tr>\n",
       "    <tr>\n",
       "      <th>3</th>\n",
       "      <td>@catturd2 @lsferguson @elonmusk #FreedomOfSpee...</td>\n",
       "    </tr>\n",
       "    <tr>\n",
       "      <th>4</th>\n",
       "      <td>@WSpaceCadet @MDigout99 https://t.co/xjB2FmBDH5</td>\n",
       "    </tr>\n",
       "    <tr>\n",
       "      <th>...</th>\n",
       "      <td>...</td>\n",
       "    </tr>\n",
       "    <tr>\n",
       "      <th>1680</th>\n",
       "      <td>Sounds good https://t.co/ENH9Vuh3LX</td>\n",
       "    </tr>\n",
       "    <tr>\n",
       "      <th>1681</th>\n",
       "      <td>ok https://t.co/mUFNzB9xgl</td>\n",
       "    </tr>\n",
       "    <tr>\n",
       "      <th>1682</th>\n",
       "      <td>🤔🤔🤔🤔🤔🤔🤔🤔🤔🤔 https://t.co/fKzyOPA89C</td>\n",
       "    </tr>\n",
       "    <tr>\n",
       "      <th>1683</th>\n",
       "      <td>44 bln $  well spent! https://t.co/20fS9ipDUA</td>\n",
       "    </tr>\n",
       "    <tr>\n",
       "      <th>1684</th>\n",
       "      <td>🔥 https://t.co/IeGBtbBjgk</td>\n",
       "    </tr>\n",
       "  </tbody>\n",
       "</table>\n",
       "<p>1685 rows × 1 columns</p>\n",
       "</div>"
      ],
      "text/plain": [
       "                                                  Tweet\n",
       "0                            🎆🌆 https://t.co/geAmTzucIm\n",
       "1     Imma negative tweet\\nImma negative tweet\\nImma...\n",
       "2     Musk: \"Old Twitter deboosted certain accounts,...\n",
       "3     @catturd2 @lsferguson @elonmusk #FreedomOfSpee...\n",
       "4       @WSpaceCadet @MDigout99 https://t.co/xjB2FmBDH5\n",
       "...                                                 ...\n",
       "1680                Sounds good https://t.co/ENH9Vuh3LX\n",
       "1681                         ok https://t.co/mUFNzB9xgl\n",
       "1682                 🤔🤔🤔🤔🤔🤔🤔🤔🤔🤔 https://t.co/fKzyOPA89C\n",
       "1683      44 bln $  well spent! https://t.co/20fS9ipDUA\n",
       "1684                          🔥 https://t.co/IeGBtbBjgk\n",
       "\n",
       "[1685 rows x 1 columns]"
      ]
     },
     "execution_count": 30,
     "metadata": {},
     "output_type": "execute_result"
    }
   ],
   "source": [
    "df"
   ]
  },
  {
   "cell_type": "code",
   "execution_count": 26,
   "id": "f78bf2ad",
   "metadata": {},
   "outputs": [
    {
     "data": {
      "text/plain": [
       "Tweet    0\n",
       "dtype: int64"
      ]
     },
     "execution_count": 26,
     "metadata": {},
     "output_type": "execute_result"
    }
   ],
   "source": [
    "df.isnull().sum()"
   ]
  },
  {
   "cell_type": "code",
   "execution_count": 27,
   "id": "112cecf5",
   "metadata": {},
   "outputs": [],
   "source": [
    "df.to_csv(\"Tweets.csv\")"
   ]
  },
  {
   "cell_type": "code",
   "execution_count": null,
   "id": "ca402bc3",
   "metadata": {},
   "outputs": [],
   "source": []
  }
 ],
 "metadata": {
  "kernelspec": {
   "display_name": "Python 3 (ipykernel)",
   "language": "python",
   "name": "python3"
  },
  "language_info": {
   "codemirror_mode": {
    "name": "ipython",
    "version": 3
   },
   "file_extension": ".py",
   "mimetype": "text/x-python",
   "name": "python",
   "nbconvert_exporter": "python",
   "pygments_lexer": "ipython3",
   "version": "3.10.8"
  }
 },
 "nbformat": 4,
 "nbformat_minor": 5
}
